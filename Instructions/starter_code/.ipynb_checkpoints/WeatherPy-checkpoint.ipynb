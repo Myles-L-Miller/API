{
 "cells": [
  {
   "cell_type": "markdown",
   "metadata": {},
   "source": [
    "# WeatherPy\n",
    "----\n",
    "\n",
    "#### Note\n",
    "* Instructions have been included for each segment. You do not have to follow them exactly, but they are included to help you think through the steps."
   ]
  },
  {
   "cell_type": "code",
   "execution_count": 1,
   "metadata": {
    "scrolled": true
   },
   "outputs": [],
   "source": [
    "# Dependencies\n",
    "import matplotlib.pyplot as plt\n",
    "from scipy.stats import linregress\n",
    "import requests\n",
    "import pandas as pd\n",
    "import numpy as np\n",
    "import random\n",
    "from citipy import citipy\n",
    "from api_keys import weather_api_key, g_key\n",
    "\n",
    "# define url\n",
    "#https://pypi.python.org/pypi/citipy\n",
    "temp_units = \"imperial\"\n",
    "query_url = f\"http://api.openweathermap.org/data/2.5/weather?appid={weather_api_key}&units={temp_units}&q=\""
   ]
  },
  {
   "cell_type": "markdown",
   "metadata": {},
   "source": [
    "## Generate Cities List"
   ]
  },
  {
   "cell_type": "code",
   "execution_count": 2,
   "metadata": {},
   "outputs": [
    {
     "data": {
      "text/plain": [
       "647"
      ]
     },
     "execution_count": 2,
     "metadata": {},
     "output_type": "execute_result"
    }
   ],
   "source": [
    "# set up lists to hold reponse info\n",
    "lat = []\n",
    "lng = []\n",
    "cities = []\n",
    "city_list = []\n",
    "countries = []\n",
    "temp = []\n",
    "humidity = []\n",
    "cloudiness = []\n",
    "windspeed = []\n",
    "\n",
    "# Generate list of latitudes and longitudes\n",
    "lat_range = (-90, 90)\n",
    "lng_range = (-180, 180)\n",
    "lat_random = np.random.uniform(lat_range[0], lat_range[1], size=1500)\n",
    "lng_random = np.random.uniform(lng_range[0], lng_range[1], size=1500)\n",
    "\n",
    "#use CitiPy for nearest cities list\n",
    "coords = zip(lat_random, lng_random)\n",
    "for coord in coords:\n",
    "    city = citipy.nearest_city(coord[0], coord[1]).city_name\n",
    "    if city not in cities:\n",
    "        cities.append(city)\n",
    "\n",
    "len(cities)"
   ]
  },
  {
   "cell_type": "markdown",
   "metadata": {},
   "source": [
    "### Perform API Calls\n",
    "* Perform a weather check on each city using a series of successive API calls.\n",
    "* Include a print log of each city as it'sbeing processed (with the city number and city name).\n"
   ]
  },
  {
   "cell_type": "code",
   "execution_count": 3,
   "metadata": {
    "scrolled": true
   },
   "outputs": [
    {
     "name": "stdout",
     "output_type": "stream",
     "text": [
      "Beginning Data Retrieval\n",
      "------------------------------\n",
      "Processing Record 1 bubaque\n",
      "------------------------------\n",
      "Processing Record 2 sioux lookout\n",
      "------------------------------\n",
      "Processing Record 3 rikitea\n",
      "------------------------------\n",
      "Processing Record 4 mataura\n",
      "------------------------------\n",
      "Processing Record 5 esperance\n",
      "------------------------------\n",
      "Processing Record 6 gimli\n",
      "------------------------------\n",
      "Processing Record 7 kapaa\n",
      "------------------------------\n",
      "Processing Record 8 cabo san lucas\n",
      "------------------------------\n",
      "Processing Record 9 punta arenas\n",
      "------------------------------\n",
      "Processing Record 10 ushuaia\n",
      "------------------------------\n",
      "Processing Record 11 hobart\n",
      "------------------------------\n",
      "Processing Record 12 huainan\n",
      "------------------------------\n",
      "Processing Record 13 portland\n",
      "------------------------------\n",
      "Processing Record 14 siljan\n",
      "------------------------------\n",
      "Processing Record 15 caravelas\n",
      "------------------------------\n",
      "Processing Record 16 san patricio\n",
      "------------------------------\n",
      "Processing Record 17 albany\n",
      "------------------------------\n",
      "Processing Record 18 klaksvik\n",
      "------------------------------\n",
      "Processing Record 19 porto novo\n",
      "------------------------------\n",
      "Processing Record 20 itamaraju\n",
      "------------------------------\n",
      "Processing Record 21 kamaishi\n",
      "------------------------------\n",
      "Processing Record 22 mys shmidta\n",
      "Could not find mys shmidta\n",
      "------------------------------\n",
      "Processing Record 23 barranca\n",
      "------------------------------\n",
      "Processing Record 24 barentsburg\n",
      "Could not find barentsburg\n",
      "------------------------------\n",
      "Processing Record 25 butaritari\n",
      "------------------------------\n",
      "Processing Record 26 santa maria\n",
      "------------------------------\n",
      "Processing Record 27 daura\n",
      "------------------------------\n",
      "Processing Record 28 trincomalee\n",
      "------------------------------\n",
      "Processing Record 29 hilo\n",
      "------------------------------\n",
      "Processing Record 30 mahebourg\n",
      "------------------------------\n",
      "Processing Record 31 hermanus\n",
      "------------------------------\n",
      "Processing Record 32 busselton\n",
      "------------------------------\n",
      "Processing Record 33 vaini\n",
      "------------------------------\n",
      "Processing Record 34 pevek\n",
      "------------------------------\n",
      "Processing Record 35 tasiilaq\n",
      "------------------------------\n",
      "Processing Record 36 chapais\n",
      "------------------------------\n",
      "Processing Record 37 kichera\n",
      "------------------------------\n",
      "Processing Record 38 cockburn town\n",
      "------------------------------\n",
      "Processing Record 39 cape town\n",
      "------------------------------\n",
      "Processing Record 40 bluff\n",
      "------------------------------\n",
      "Processing Record 41 lagos\n",
      "------------------------------\n",
      "Processing Record 42 victoria\n",
      "------------------------------\n",
      "Processing Record 43 grand gaube\n",
      "------------------------------\n",
      "Processing Record 44 turayf\n",
      "------------------------------\n",
      "Processing Record 45 oksfjord\n",
      "------------------------------\n",
      "Processing Record 46 zhitikara\n",
      "Could not find zhitikara\n",
      "------------------------------\n",
      "Processing Record 47 port alfred\n",
      "------------------------------\n",
      "Processing Record 48 sao filipe\n",
      "------------------------------\n",
      "Processing Record 49 hithadhoo\n",
      "------------------------------\n",
      "Processing Record 50 tuktoyaktuk\n",
      "------------------------------\n",
      "Processing Record 51 sungaipenuh\n",
      "------------------------------\n",
      "Processing Record 52 ramapuram\n",
      "------------------------------\n",
      "Processing Record 53 isangel\n",
      "------------------------------\n",
      "Processing Record 54 geraldton\n",
      "------------------------------\n",
      "Processing Record 55 hovd\n",
      "------------------------------\n",
      "Processing Record 56 carnarvon\n",
      "------------------------------\n",
      "Processing Record 57 margate\n",
      "------------------------------\n",
      "Processing Record 58 ostrovnoy\n",
      "------------------------------\n",
      "Processing Record 59 necochea\n",
      "------------------------------\n",
      "Processing Record 60 provideniya\n",
      "------------------------------\n",
      "Processing Record 61 naze\n",
      "------------------------------\n",
      "Processing Record 62 kaniama\n",
      "------------------------------\n",
      "Processing Record 63 iguape\n",
      "------------------------------\n",
      "Processing Record 64 clinton\n",
      "------------------------------\n",
      "Processing Record 65 bethanien\n",
      "------------------------------\n",
      "Processing Record 66 jamestown\n",
      "------------------------------\n",
      "Processing Record 67 milos\n",
      "------------------------------\n",
      "Processing Record 68 mount gambier\n",
      "------------------------------\n",
      "Processing Record 69 nikolskoye\n",
      "------------------------------\n",
      "Processing Record 70 canavieiras\n",
      "------------------------------\n",
      "Processing Record 71 belushya guba\n",
      "Could not find belushya guba\n",
      "------------------------------\n",
      "Processing Record 72 talcahuano\n",
      "------------------------------\n",
      "Processing Record 73 coquimbo\n",
      "------------------------------\n",
      "Processing Record 74 rincon\n",
      "------------------------------\n",
      "Processing Record 75 taolanaro\n",
      "Could not find taolanaro\n",
      "------------------------------\n",
      "Processing Record 76 tumannyy\n",
      "Could not find tumannyy\n",
      "------------------------------\n",
      "Processing Record 77 qaanaaq\n",
      "------------------------------\n",
      "Processing Record 78 ancud\n",
      "------------------------------\n",
      "Processing Record 79 georgetown\n",
      "------------------------------\n",
      "Processing Record 80 favara\n",
      "------------------------------\n",
      "Processing Record 81 puerto ayora\n",
      "------------------------------\n",
      "Processing Record 82 skelleftea\n",
      "------------------------------\n",
      "Processing Record 83 chuy\n",
      "------------------------------\n",
      "Processing Record 84 amga\n",
      "------------------------------\n",
      "Processing Record 85 muzambinho\n",
      "------------------------------\n",
      "Processing Record 86 saldanha\n",
      "------------------------------\n",
      "Processing Record 87 tingi\n",
      "------------------------------\n",
      "Processing Record 88 danielskuil\n",
      "------------------------------\n",
      "Processing Record 89 safonovo\n",
      "------------------------------\n",
      "Processing Record 90 maragogi\n",
      "------------------------------\n",
      "Processing Record 91 avarua\n",
      "------------------------------\n",
      "Processing Record 92 kieta\n",
      "------------------------------\n",
      "Processing Record 93 barra da estiva\n",
      "------------------------------\n",
      "Processing Record 94 upernavik\n",
      "------------------------------\n",
      "Processing Record 95 jutai\n",
      "------------------------------\n",
      "Processing Record 96 whitehorse\n",
      "------------------------------\n",
      "Processing Record 97 farnham\n",
      "------------------------------\n",
      "Processing Record 98 angatuba\n",
      "------------------------------\n",
      "Processing Record 99 camacha\n",
      "------------------------------\n",
      "Processing Record 100 neede\n",
      "------------------------------\n",
      "Processing Record 101 khonuu\n",
      "Could not find khonuu\n",
      "------------------------------\n",
      "Processing Record 102 port elizabeth\n",
      "------------------------------\n",
      "Processing Record 103 saint-philippe\n",
      "------------------------------\n",
      "Processing Record 104 bargal\n",
      "Could not find bargal\n",
      "------------------------------\n",
      "Processing Record 105 mataram\n",
      "------------------------------\n",
      "Processing Record 106 mentok\n",
      "Could not find mentok\n",
      "------------------------------\n",
      "Processing Record 107 jalu\n",
      "------------------------------\n",
      "Processing Record 108 kailua\n",
      "------------------------------\n",
      "Processing Record 109 galle\n",
      "------------------------------\n",
      "Processing Record 110 surovatikha\n",
      "------------------------------\n",
      "Processing Record 111 xuddur\n",
      "------------------------------\n",
      "Processing Record 112 salalah\n",
      "------------------------------\n",
      "Processing Record 113 castro\n",
      "------------------------------\n",
      "Processing Record 114 san quintin\n",
      "------------------------------\n",
      "Processing Record 115 high level\n",
      "------------------------------\n",
      "Processing Record 116 maarianhamina\n",
      "------------------------------\n",
      "Processing Record 117 mackay\n",
      "------------------------------\n",
      "Processing Record 118 egvekinot\n",
      "------------------------------\n",
      "Processing Record 119 bondoukou\n",
      "------------------------------\n",
      "Processing Record 120 kinsale\n",
      "------------------------------\n",
      "Processing Record 121 barrow\n",
      "------------------------------\n",
      "Processing Record 122 alta floresta\n",
      "------------------------------\n",
      "Processing Record 123 hualmay\n",
      "------------------------------\n",
      "Processing Record 124 matamoros\n",
      "------------------------------\n",
      "Processing Record 125 novopokrovka\n",
      "------------------------------\n",
      "Processing Record 126 thompson\n",
      "------------------------------\n",
      "Processing Record 127 saskylakh\n",
      "------------------------------\n",
      "Processing Record 128 yellowknife\n",
      "------------------------------\n",
      "Processing Record 129 loralai\n",
      "------------------------------\n",
      "Processing Record 130 mar del plata\n"
     ]
    },
    {
     "name": "stdout",
     "output_type": "stream",
     "text": [
      "------------------------------\n",
      "Processing Record 131 ambon\n",
      "------------------------------\n",
      "Processing Record 132 khani\n",
      "------------------------------\n",
      "Processing Record 133 te anau\n",
      "------------------------------\n",
      "Processing Record 134 kalmunai\n",
      "------------------------------\n",
      "Processing Record 135 bredasdorp\n",
      "------------------------------\n",
      "Processing Record 136 saint-francois\n",
      "------------------------------\n",
      "Processing Record 137 maloarkhangelsk\n",
      "------------------------------\n",
      "Processing Record 138 tonantins\n",
      "------------------------------\n",
      "Processing Record 139 avera\n",
      "------------------------------\n",
      "Processing Record 140 itarema\n",
      "------------------------------\n",
      "Processing Record 141 ribeira grande\n",
      "------------------------------\n",
      "Processing Record 142 camacupa\n",
      "------------------------------\n",
      "Processing Record 143 saint george\n",
      "------------------------------\n",
      "Processing Record 144 labytnangi\n",
      "------------------------------\n",
      "Processing Record 145 chokurdakh\n",
      "------------------------------\n",
      "Processing Record 146 warmbad\n",
      "------------------------------\n",
      "Processing Record 147 siavonga\n",
      "------------------------------\n",
      "Processing Record 148 ilhabela\n",
      "------------------------------\n",
      "Processing Record 149 fuling\n",
      "------------------------------\n",
      "Processing Record 150 raymond\n",
      "------------------------------\n",
      "Processing Record 151 touros\n",
      "------------------------------\n",
      "Processing Record 152 kavieng\n",
      "------------------------------\n",
      "Processing Record 153 cherskiy\n",
      "------------------------------\n",
      "Processing Record 154 port hedland\n",
      "------------------------------\n",
      "Processing Record 155 torbay\n",
      "------------------------------\n",
      "Processing Record 156 sataua\n",
      "Could not find sataua\n",
      "------------------------------\n",
      "Processing Record 157 bengkulu\n",
      "------------------------------\n",
      "Processing Record 158 kristiinankaupunki\n",
      "------------------------------\n",
      "Processing Record 159 nanortalik\n",
      "------------------------------\n",
      "Processing Record 160 palu\n",
      "------------------------------\n",
      "Processing Record 161 zhigalovo\n",
      "------------------------------\n",
      "Processing Record 162 moerai\n",
      "------------------------------\n",
      "Processing Record 163 talnakh\n",
      "------------------------------\n",
      "Processing Record 164 bambous virieux\n",
      "------------------------------\n",
      "Processing Record 165 ouahigouya\n",
      "------------------------------\n",
      "Processing Record 166 tuensang\n",
      "------------------------------\n",
      "Processing Record 167 walvis bay\n",
      "------------------------------\n",
      "Processing Record 168 bontang\n",
      "------------------------------\n",
      "Processing Record 169 pisco\n",
      "------------------------------\n",
      "Processing Record 170 hasaki\n",
      "------------------------------\n",
      "Processing Record 171 khatanga\n",
      "------------------------------\n",
      "Processing Record 172 shingu\n",
      "------------------------------\n",
      "Processing Record 173 kerrville\n",
      "------------------------------\n",
      "Processing Record 174 atar\n",
      "------------------------------\n",
      "Processing Record 175 bathsheba\n",
      "------------------------------\n",
      "Processing Record 176 tarhunah\n",
      "Could not find tarhunah\n",
      "------------------------------\n",
      "Processing Record 177 urumqi\n",
      "------------------------------\n",
      "Processing Record 178 kodiak\n",
      "------------------------------\n",
      "Processing Record 179 severobaykalsk\n",
      "------------------------------\n",
      "Processing Record 180 vestmannaeyjar\n",
      "------------------------------\n",
      "Processing Record 181 san vicente\n",
      "------------------------------\n",
      "Processing Record 182 seoul\n",
      "------------------------------\n",
      "Processing Record 183 balkhash\n",
      "------------------------------\n",
      "Processing Record 184 manuk mangkaw\n",
      "------------------------------\n",
      "Processing Record 185 oussouye\n",
      "------------------------------\n",
      "Processing Record 186 illoqqortoormiut\n",
      "Could not find illoqqortoormiut\n",
      "------------------------------\n",
      "Processing Record 187 peniche\n",
      "------------------------------\n",
      "Processing Record 188 boden\n",
      "------------------------------\n",
      "Processing Record 189 birjand\n",
      "------------------------------\n",
      "Processing Record 190 ust-bolsheretsk\n",
      "Could not find ust-bolsheretsk\n",
      "------------------------------\n",
      "Processing Record 191 severo-kurilsk\n",
      "------------------------------\n",
      "Processing Record 192 hoopstad\n",
      "------------------------------\n",
      "Processing Record 193 koshurnikovo\n",
      "------------------------------\n",
      "Processing Record 194 vaitupu\n",
      "Could not find vaitupu\n",
      "------------------------------\n",
      "Processing Record 195 nampula\n",
      "------------------------------\n",
      "Processing Record 196 benguela\n",
      "------------------------------\n",
      "Processing Record 197 mayo\n",
      "------------------------------\n",
      "Processing Record 198 khor\n",
      "------------------------------\n",
      "Processing Record 199 andira\n",
      "------------------------------\n",
      "Processing Record 200 ponta do sol\n",
      "------------------------------\n",
      "Processing Record 201 samusu\n",
      "Could not find samusu\n",
      "------------------------------\n",
      "Processing Record 202 wladyslawowo\n",
      "------------------------------\n",
      "Processing Record 203 sentyabrskiy\n",
      "Could not find sentyabrskiy\n",
      "------------------------------\n",
      "Processing Record 204 lebu\n",
      "------------------------------\n",
      "Processing Record 205 hamilton\n",
      "------------------------------\n",
      "Processing Record 206 saint anthony\n",
      "------------------------------\n",
      "Processing Record 207 hervey bay\n",
      "------------------------------\n",
      "Processing Record 208 nylstroom\n",
      "Could not find nylstroom\n",
      "------------------------------\n",
      "Processing Record 209 atuona\n",
      "------------------------------\n",
      "Processing Record 210 alofi\n",
      "------------------------------\n",
      "Processing Record 211 kalinovskoye\n",
      "------------------------------\n",
      "Processing Record 212 dikson\n",
      "------------------------------\n",
      "Processing Record 213 mezen\n",
      "------------------------------\n",
      "Processing Record 214 pali\n",
      "------------------------------\n",
      "Processing Record 215 beringovskiy\n",
      "------------------------------\n",
      "Processing Record 216 collierville\n",
      "------------------------------\n",
      "Processing Record 217 tambovka\n",
      "------------------------------\n",
      "Processing Record 218 tapaua\n",
      "Could not find tapaua\n",
      "------------------------------\n",
      "Processing Record 219 akyab\n",
      "------------------------------\n",
      "Processing Record 220 wagar\n",
      "------------------------------\n",
      "Processing Record 221 lubumbashi\n",
      "------------------------------\n",
      "Processing Record 222 vao\n",
      "------------------------------\n",
      "Processing Record 223 lavrentiya\n",
      "------------------------------\n",
      "Processing Record 224 oktyabrskoye\n",
      "------------------------------\n",
      "Processing Record 225 muros\n",
      "------------------------------\n",
      "Processing Record 226 new norfolk\n",
      "------------------------------\n",
      "Processing Record 227 broome\n",
      "------------------------------\n",
      "Processing Record 228 axim\n",
      "------------------------------\n",
      "Processing Record 229 guadalupe y calvo\n",
      "------------------------------\n",
      "Processing Record 230 roquetas de mar\n",
      "------------------------------\n",
      "Processing Record 231 tongliao\n",
      "------------------------------\n",
      "Processing Record 232 narsaq\n",
      "------------------------------\n",
      "Processing Record 233 nioro\n",
      "------------------------------\n",
      "Processing Record 234 chincholi\n",
      "------------------------------\n",
      "Processing Record 235 contamana\n",
      "------------------------------\n",
      "Processing Record 236 dingle\n",
      "------------------------------\n",
      "Processing Record 237 davila\n",
      "------------------------------\n",
      "Processing Record 238 pangnirtung\n",
      "------------------------------\n",
      "Processing Record 239 altayskoye\n",
      "------------------------------\n",
      "Processing Record 240 saint-georges\n",
      "------------------------------\n",
      "Processing Record 241 ballina\n",
      "------------------------------\n",
      "Processing Record 242 praia da vitoria\n",
      "------------------------------\n",
      "Processing Record 243 kupang\n",
      "------------------------------\n",
      "Processing Record 244 vardo\n",
      "------------------------------\n",
      "Processing Record 245 sechura\n",
      "------------------------------\n",
      "Processing Record 246 bodden town\n",
      "------------------------------\n",
      "Processing Record 247 korla\n",
      "------------------------------\n",
      "Processing Record 248 yatou\n",
      "------------------------------\n",
      "Processing Record 249 upington\n",
      "------------------------------\n",
      "Processing Record 250 medicine hat\n",
      "------------------------------\n",
      "Processing Record 251 fez\n",
      "------------------------------\n",
      "Processing Record 252 ixtapa\n",
      "------------------------------\n",
      "Processing Record 253 havelock\n",
      "------------------------------\n",
      "Processing Record 254 east london\n",
      "------------------------------\n",
      "Processing Record 255 filingue\n",
      "------------------------------\n",
      "Processing Record 256 las palmas\n",
      "------------------------------\n",
      "Processing Record 257 cidreira\n",
      "------------------------------\n",
      "Processing Record 258 plettenberg bay\n"
     ]
    },
    {
     "name": "stdout",
     "output_type": "stream",
     "text": [
      "------------------------------\n",
      "Processing Record 259 pouebo\n",
      "------------------------------\n",
      "Processing Record 260 hirara\n",
      "------------------------------\n",
      "Processing Record 261 kirksville\n",
      "------------------------------\n",
      "Processing Record 262 bilibino\n",
      "------------------------------\n",
      "Processing Record 263 arlit\n",
      "------------------------------\n",
      "Processing Record 264 macapa\n",
      "------------------------------\n",
      "Processing Record 265 yumen\n",
      "------------------------------\n",
      "Processing Record 266 puerto escondido\n",
      "------------------------------\n",
      "Processing Record 267 dickinson\n",
      "------------------------------\n",
      "Processing Record 268 inhambane\n",
      "------------------------------\n",
      "Processing Record 269 codrington\n",
      "------------------------------\n",
      "Processing Record 270 chipata\n",
      "------------------------------\n",
      "Processing Record 271 hire\n",
      "Could not find hire\n",
      "------------------------------\n",
      "Processing Record 272 lengshuijiang\n",
      "------------------------------\n",
      "Processing Record 273 hofn\n",
      "------------------------------\n",
      "Processing Record 274 pousat\n",
      "Could not find pousat\n",
      "------------------------------\n",
      "Processing Record 275 oranjemund\n",
      "------------------------------\n",
      "Processing Record 276 inta\n",
      "------------------------------\n",
      "Processing Record 277 kurilsk\n",
      "------------------------------\n",
      "Processing Record 278 kazalinsk\n",
      "Could not find kazalinsk\n",
      "------------------------------\n",
      "Processing Record 279 bani\n",
      "------------------------------\n",
      "Processing Record 280 gola gokarannath\n",
      "------------------------------\n",
      "Processing Record 281 nizhneangarsk\n",
      "------------------------------\n",
      "Processing Record 282 cumpas\n",
      "------------------------------\n",
      "Processing Record 283 ngukurr\n",
      "Could not find ngukurr\n",
      "------------------------------\n",
      "Processing Record 284 tura\n",
      "------------------------------\n",
      "Processing Record 285 goulburn\n",
      "------------------------------\n",
      "Processing Record 286 dolbeau\n",
      "Could not find dolbeau\n",
      "------------------------------\n",
      "Processing Record 287 leningradskiy\n",
      "------------------------------\n",
      "Processing Record 288 kaitangata\n",
      "------------------------------\n",
      "Processing Record 289 custodia\n",
      "------------------------------\n",
      "Processing Record 290 otacilio costa\n",
      "------------------------------\n",
      "Processing Record 291 attawapiskat\n",
      "Could not find attawapiskat\n",
      "------------------------------\n",
      "Processing Record 292 kahului\n",
      "------------------------------\n",
      "Processing Record 293 wasco\n",
      "------------------------------\n",
      "Processing Record 294 sinop\n",
      "------------------------------\n",
      "Processing Record 295 kununurra\n",
      "------------------------------\n",
      "Processing Record 296 nabire\n",
      "------------------------------\n",
      "Processing Record 297 madiun\n",
      "------------------------------\n",
      "Processing Record 298 beckley\n",
      "------------------------------\n",
      "Processing Record 299 portobelo\n",
      "------------------------------\n",
      "Processing Record 300 clyde river\n",
      "------------------------------\n",
      "Processing Record 301 issoire\n",
      "------------------------------\n",
      "Processing Record 302 luau\n",
      "------------------------------\n",
      "Processing Record 303 airai\n",
      "------------------------------\n",
      "Processing Record 304 gavle\n",
      "------------------------------\n",
      "Processing Record 305 nangal\n",
      "------------------------------\n",
      "Processing Record 306 firozpur\n",
      "------------------------------\n",
      "Processing Record 307 mae sot\n",
      "------------------------------\n",
      "Processing Record 308 mahaicony\n",
      "Could not find mahaicony\n",
      "------------------------------\n",
      "Processing Record 309 sorland\n",
      "------------------------------\n",
      "Processing Record 310 ciras\n",
      "Could not find ciras\n",
      "------------------------------\n",
      "Processing Record 311 kamariotissa\n",
      "------------------------------\n",
      "Processing Record 312 longyearbyen\n",
      "------------------------------\n",
      "Processing Record 313 phumi samraong\n",
      "Could not find phumi samraong\n",
      "------------------------------\n",
      "Processing Record 314 stromness\n",
      "------------------------------\n",
      "Processing Record 315 conil\n",
      "------------------------------\n",
      "Processing Record 316 tsiroanomandidy\n",
      "------------------------------\n",
      "Processing Record 317 akom\n",
      "------------------------------\n",
      "Processing Record 318 gilgit\n",
      "------------------------------\n",
      "Processing Record 319 maceio\n",
      "------------------------------\n",
      "Processing Record 320 amderma\n",
      "Could not find amderma\n",
      "------------------------------\n",
      "Processing Record 321 urdoma\n",
      "------------------------------\n",
      "Processing Record 322 owensboro\n",
      "------------------------------\n",
      "Processing Record 323 enshi\n",
      "------------------------------\n",
      "Processing Record 324 uray\n",
      "------------------------------\n",
      "Processing Record 325 riyadh\n",
      "------------------------------\n",
      "Processing Record 326 green river\n",
      "------------------------------\n",
      "Processing Record 327 tocopilla\n",
      "------------------------------\n",
      "Processing Record 328 lasa\n",
      "------------------------------\n",
      "Processing Record 329 menongue\n",
      "------------------------------\n",
      "Processing Record 330 araguari\n",
      "------------------------------\n",
      "Processing Record 331 kanata\n",
      "------------------------------\n",
      "Processing Record 332 san javier\n",
      "------------------------------\n",
      "Processing Record 333 mocambique\n",
      "Could not find mocambique\n",
      "------------------------------\n",
      "Processing Record 334 grand centre\n",
      "Could not find grand centre\n",
      "------------------------------\n",
      "Processing Record 335 fernie\n",
      "------------------------------\n",
      "Processing Record 336 belaya gora\n",
      "------------------------------\n",
      "Processing Record 337 huichapan\n",
      "------------------------------\n",
      "Processing Record 338 nizhneyansk\n",
      "Could not find nizhneyansk\n",
      "------------------------------\n",
      "Processing Record 339 lazaro cardenas\n",
      "------------------------------\n",
      "Processing Record 340 lompoc\n",
      "------------------------------\n",
      "Processing Record 341 lewistown\n",
      "------------------------------\n",
      "Processing Record 342 mokshan\n",
      "------------------------------\n",
      "Processing Record 343 solnechnyy\n",
      "------------------------------\n",
      "Processing Record 344 henties bay\n",
      "------------------------------\n",
      "Processing Record 345 aklavik\n",
      "------------------------------\n",
      "Processing Record 346 liverpool\n",
      "------------------------------\n",
      "Processing Record 347 irbil\n",
      "------------------------------\n",
      "Processing Record 348 tiznit\n",
      "------------------------------\n",
      "Processing Record 349 vestmanna\n",
      "------------------------------\n",
      "Processing Record 350 montrose\n",
      "------------------------------\n",
      "Processing Record 351 mnogovershinnyy\n",
      "------------------------------\n",
      "Processing Record 352 tsihombe\n",
      "Could not find tsihombe\n",
      "------------------------------\n",
      "Processing Record 353 college\n",
      "------------------------------\n",
      "Processing Record 354 tuatapere\n",
      "------------------------------\n",
      "Processing Record 355 nishihara\n",
      "------------------------------\n",
      "Processing Record 356 susanville\n",
      "------------------------------\n",
      "Processing Record 357 letpadan\n",
      "------------------------------\n",
      "Processing Record 358 sisimiut\n",
      "------------------------------\n",
      "Processing Record 359 mianyang\n",
      "------------------------------\n",
      "Processing Record 360 luderitz\n",
      "------------------------------\n",
      "Processing Record 361 norman wells\n",
      "------------------------------\n",
      "Processing Record 362 pacasmayo\n",
      "------------------------------\n",
      "Processing Record 363 san felipe\n",
      "------------------------------\n",
      "Processing Record 364 jiangyou\n",
      "------------------------------\n",
      "Processing Record 365 khorixas\n",
      "------------------------------\n",
      "Processing Record 366 boyolangu\n",
      "------------------------------\n",
      "Processing Record 367 wawa\n",
      "------------------------------\n",
      "Processing Record 368 visby\n",
      "------------------------------\n",
      "Processing Record 369 gonzalez\n",
      "------------------------------\n",
      "Processing Record 370 lodja\n",
      "------------------------------\n",
      "Processing Record 371 paiho\n",
      "Could not find paiho\n",
      "------------------------------\n",
      "Processing Record 372 new port richey\n",
      "------------------------------\n",
      "Processing Record 373 lorengau\n",
      "------------------------------\n",
      "Processing Record 374 tautira\n",
      "------------------------------\n",
      "Processing Record 375 srednekolymsk\n",
      "------------------------------\n",
      "Processing Record 376 kortkeros\n",
      "------------------------------\n",
      "Processing Record 377 mokhsogollokh\n",
      "------------------------------\n",
      "Processing Record 378 port moresby\n",
      "------------------------------\n",
      "Processing Record 379 silver city\n",
      "------------------------------\n",
      "Processing Record 380 shaki\n",
      "------------------------------\n",
      "Processing Record 381 tynda\n",
      "------------------------------\n",
      "Processing Record 382 langsa\n",
      "------------------------------\n",
      "Processing Record 383 palembang\n",
      "------------------------------\n",
      "Processing Record 384 vostok\n"
     ]
    },
    {
     "name": "stdout",
     "output_type": "stream",
     "text": [
      "------------------------------\n",
      "Processing Record 385 ilulissat\n",
      "------------------------------\n",
      "Processing Record 386 tacarigua\n",
      "------------------------------\n",
      "Processing Record 387 katsuura\n",
      "------------------------------\n",
      "Processing Record 388 mogok\n",
      "------------------------------\n",
      "Processing Record 389 kruisfontein\n",
      "------------------------------\n",
      "Processing Record 390 qaqortoq\n",
      "------------------------------\n",
      "Processing Record 391 cajazeiras\n",
      "------------------------------\n",
      "Processing Record 392 lima\n",
      "------------------------------\n",
      "Processing Record 393 hudiksvall\n",
      "------------------------------\n",
      "Processing Record 394 fatehpur\n",
      "------------------------------\n",
      "Processing Record 395 rungata\n",
      "Could not find rungata\n",
      "------------------------------\n",
      "Processing Record 396 thunder bay\n",
      "------------------------------\n",
      "Processing Record 397 petropavlovsk-kamchatskiy\n",
      "------------------------------\n",
      "Processing Record 398 vangaindrano\n",
      "------------------------------\n",
      "Processing Record 399 belur\n",
      "------------------------------\n",
      "Processing Record 400 ormara\n",
      "------------------------------\n",
      "Processing Record 401 bandarbeyla\n",
      "------------------------------\n",
      "Processing Record 402 gizo\n",
      "------------------------------\n",
      "Processing Record 403 sao felix do xingu\n",
      "------------------------------\n",
      "Processing Record 404 fort nelson\n",
      "------------------------------\n",
      "Processing Record 405 banawang\n",
      "------------------------------\n",
      "Processing Record 406 villacarrillo\n",
      "------------------------------\n",
      "Processing Record 407 malinyi\n",
      "------------------------------\n",
      "Processing Record 408 huntington\n",
      "------------------------------\n",
      "Processing Record 409 jabinyanah\n",
      "------------------------------\n",
      "Processing Record 410 helong\n",
      "------------------------------\n",
      "Processing Record 411 sukumo\n",
      "------------------------------\n",
      "Processing Record 412 bolungarvik\n",
      "Could not find bolungarvik\n",
      "------------------------------\n",
      "Processing Record 413 vallenar\n",
      "------------------------------\n",
      "Processing Record 414 okhotsk\n",
      "------------------------------\n",
      "Processing Record 415 freetown\n",
      "------------------------------\n",
      "Processing Record 416 prince george\n",
      "------------------------------\n",
      "Processing Record 417 guerrero negro\n",
      "------------------------------\n",
      "Processing Record 418 kambam\n",
      "------------------------------\n",
      "Processing Record 419 posse\n",
      "------------------------------\n",
      "Processing Record 420 yulara\n",
      "------------------------------\n",
      "Processing Record 421 konakovo\n",
      "------------------------------\n",
      "Processing Record 422 ksenyevka\n",
      "Could not find ksenyevka\n",
      "------------------------------\n",
      "Processing Record 423 moindou\n",
      "------------------------------\n",
      "Processing Record 424 luwuk\n",
      "------------------------------\n",
      "Processing Record 425 los llanos de aridane\n",
      "------------------------------\n",
      "Processing Record 426 puerto del rosario\n",
      "------------------------------\n",
      "Processing Record 427 chacabuco\n",
      "------------------------------\n",
      "Processing Record 428 sur\n",
      "------------------------------\n",
      "Processing Record 429 marienburg\n",
      "------------------------------\n",
      "Processing Record 430 valea stanciului\n",
      "------------------------------\n",
      "Processing Record 431 trojes\n",
      "------------------------------\n",
      "Processing Record 432 buchanan\n",
      "------------------------------\n",
      "Processing Record 433 chhatak\n",
      "------------------------------\n",
      "Processing Record 434 kristiansund\n",
      "------------------------------\n",
      "Processing Record 435 marystown\n",
      "------------------------------\n",
      "Processing Record 436 ixcatepec\n",
      "------------------------------\n",
      "Processing Record 437 concepcion del uruguay\n",
      "------------------------------\n",
      "Processing Record 438 vanimo\n",
      "------------------------------\n",
      "Processing Record 439 santa rosa\n",
      "------------------------------\n",
      "Processing Record 440 medyn\n",
      "------------------------------\n",
      "Processing Record 441 sorong\n",
      "------------------------------\n",
      "Processing Record 442 si bun ruang\n",
      "------------------------------\n",
      "Processing Record 443 glenwood springs\n",
      "------------------------------\n",
      "Processing Record 444 lagoa\n",
      "------------------------------\n",
      "Processing Record 445 we\n",
      "Could not find we\n",
      "------------------------------\n",
      "Processing Record 446 fallon\n",
      "------------------------------\n",
      "Processing Record 447 fort saint james\n",
      "------------------------------\n",
      "Processing Record 448 chagda\n",
      "Could not find chagda\n",
      "------------------------------\n",
      "Processing Record 449 cayenne\n",
      "------------------------------\n",
      "Processing Record 450 methoni\n",
      "------------------------------\n",
      "Processing Record 451 laurel\n",
      "------------------------------\n",
      "Processing Record 452 mahibadhoo\n",
      "------------------------------\n",
      "Processing Record 453 grand river south east\n",
      "Could not find grand river south east\n",
      "------------------------------\n",
      "Processing Record 454 tateyama\n",
      "------------------------------\n",
      "Processing Record 455 winnipeg\n",
      "------------------------------\n",
      "Processing Record 456 tingo maria\n",
      "------------------------------\n",
      "Processing Record 457 pervomayskaya\n",
      "------------------------------\n",
      "Processing Record 458 robertsport\n",
      "------------------------------\n",
      "Processing Record 459 karaul\n",
      "Could not find karaul\n",
      "------------------------------\n",
      "Processing Record 460 rosario\n",
      "------------------------------\n",
      "Processing Record 461 staroutkinsk\n",
      "------------------------------\n",
      "Processing Record 462 olga\n",
      "------------------------------\n",
      "Processing Record 463 tidore\n",
      "Could not find tidore\n",
      "------------------------------\n",
      "Processing Record 464 kigoma\n",
      "------------------------------\n",
      "Processing Record 465 gorontalo\n",
      "------------------------------\n",
      "Processing Record 466 pascagoula\n",
      "------------------------------\n",
      "Processing Record 467 dakar\n",
      "------------------------------\n",
      "Processing Record 468 talaya\n",
      "------------------------------\n",
      "Processing Record 469 port-gentil\n",
      "------------------------------\n",
      "Processing Record 470 buraydah\n",
      "------------------------------\n",
      "Processing Record 471 anchorage\n",
      "------------------------------\n",
      "Processing Record 472 acapulco\n",
      "------------------------------\n",
      "Processing Record 473 eureka\n",
      "------------------------------\n",
      "Processing Record 474 jaszszentlaszlo\n",
      "------------------------------\n",
      "Processing Record 475 griffith\n",
      "------------------------------\n",
      "Processing Record 476 camana\n",
      "------------------------------\n",
      "Processing Record 477 shibetsu\n",
      "------------------------------\n",
      "Processing Record 478 broken hill\n",
      "------------------------------\n",
      "Processing Record 479 namatanai\n",
      "------------------------------\n",
      "Processing Record 480 batatais\n",
      "------------------------------\n",
      "Processing Record 481 nouadhibou\n",
      "------------------------------\n",
      "Processing Record 482 haines junction\n",
      "------------------------------\n",
      "Processing Record 483 vagur\n",
      "------------------------------\n",
      "Processing Record 484 moron\n",
      "------------------------------\n",
      "Processing Record 485 sosnovo-ozerskoye\n",
      "------------------------------\n",
      "Processing Record 486 hammerfest\n",
      "------------------------------\n",
      "Processing Record 487 garachine\n",
      "------------------------------\n",
      "Processing Record 488 iracoubo\n",
      "------------------------------\n",
      "Processing Record 489 sinnamary\n",
      "------------------------------\n",
      "Processing Record 490 shadrinsk\n",
      "------------------------------\n",
      "Processing Record 491 kollumerland\n",
      "Could not find kollumerland\n",
      "------------------------------\n",
      "Processing Record 492 atagay\n",
      "------------------------------\n",
      "Processing Record 493 lukow\n",
      "------------------------------\n",
      "Processing Record 494 vuktyl\n",
      "------------------------------\n",
      "Processing Record 495 general roca\n",
      "------------------------------\n",
      "Processing Record 496 kendari\n",
      "------------------------------\n",
      "Processing Record 497 flinders\n",
      "------------------------------\n",
      "Processing Record 498 palabuhanratu\n",
      "Could not find palabuhanratu\n",
      "------------------------------\n",
      "Processing Record 499 namibe\n",
      "------------------------------\n",
      "Processing Record 500 brae\n",
      "------------------------------\n",
      "Processing Record 501 alice springs\n",
      "------------------------------\n",
      "Processing Record 502 ayagoz\n",
      "------------------------------\n",
      "Processing Record 503 aykhal\n",
      "------------------------------\n",
      "Processing Record 504 vincennes\n",
      "------------------------------\n",
      "Processing Record 505 ciudad bolivar\n",
      "------------------------------\n",
      "Processing Record 506 ercis\n",
      "------------------------------\n",
      "Processing Record 507 chatra\n",
      "------------------------------\n",
      "Processing Record 508 faanui\n",
      "------------------------------\n",
      "Processing Record 509 asau\n",
      "------------------------------\n",
      "Processing Record 510 katsiveli\n"
     ]
    },
    {
     "name": "stdout",
     "output_type": "stream",
     "text": [
      "Could not find katsiveli\n",
      "------------------------------\n",
      "Processing Record 511 kavaratti\n",
      "------------------------------\n",
      "Processing Record 512 verkhoyansk\n",
      "------------------------------\n",
      "Processing Record 513 sidhauli\n",
      "------------------------------\n",
      "Processing Record 514 marcona\n",
      "Could not find marcona\n",
      "------------------------------\n",
      "Processing Record 515 birao\n",
      "------------------------------\n",
      "Processing Record 516 mocuba\n",
      "------------------------------\n",
      "Processing Record 517 adrar\n",
      "------------------------------\n",
      "Processing Record 518 katherine\n",
      "------------------------------\n",
      "Processing Record 519 port blair\n",
      "------------------------------\n",
      "Processing Record 520 san jose de las lajas\n",
      "------------------------------\n",
      "Processing Record 521 punta alta\n",
      "------------------------------\n",
      "Processing Record 522 kushmurun\n",
      "------------------------------\n",
      "Processing Record 523 yerbogachen\n",
      "------------------------------\n",
      "Processing Record 524 butia\n",
      "------------------------------\n",
      "Processing Record 525 mehamn\n",
      "------------------------------\n",
      "Processing Record 526 komsomolskiy\n",
      "------------------------------\n",
      "Processing Record 527 belogorsk\n",
      "------------------------------\n",
      "Processing Record 528 da nang\n",
      "------------------------------\n",
      "Processing Record 529 marsabit\n",
      "------------------------------\n",
      "Processing Record 530 biltine\n",
      "------------------------------\n",
      "Processing Record 531 saleaula\n",
      "Could not find saleaula\n",
      "------------------------------\n",
      "Processing Record 532 hihifo\n",
      "Could not find hihifo\n",
      "------------------------------\n",
      "Processing Record 533 cedar city\n",
      "------------------------------\n",
      "Processing Record 534 providencia\n",
      "------------------------------\n",
      "Processing Record 535 grindavik\n",
      "------------------------------\n",
      "Processing Record 536 douentza\n",
      "------------------------------\n",
      "Processing Record 537 coronado\n",
      "------------------------------\n",
      "Processing Record 538 high rock\n",
      "------------------------------\n",
      "Processing Record 539 jieshi\n",
      "------------------------------\n",
      "Processing Record 540 sheksna\n",
      "------------------------------\n",
      "Processing Record 541 lashio\n",
      "------------------------------\n",
      "Processing Record 542 lazne bohdanec\n",
      "------------------------------\n",
      "Processing Record 543 sao jose da coroa grande\n",
      "------------------------------\n",
      "Processing Record 544 terrasini\n",
      "------------------------------\n",
      "Processing Record 545 iqaluit\n",
      "------------------------------\n",
      "Processing Record 546 umm lajj\n",
      "------------------------------\n",
      "Processing Record 547 sayyan\n",
      "------------------------------\n",
      "Processing Record 548 beyneu\n",
      "------------------------------\n",
      "Processing Record 549 simao\n",
      "------------------------------\n",
      "Processing Record 550 salaya\n",
      "------------------------------\n",
      "Processing Record 551 choix\n",
      "------------------------------\n",
      "Processing Record 552 kovdor\n",
      "------------------------------\n",
      "Processing Record 553 havoysund\n",
      "------------------------------\n",
      "Processing Record 554 coahuayana\n",
      "------------------------------\n",
      "Processing Record 555 karimnagar\n",
      "------------------------------\n",
      "Processing Record 556 port augusta\n",
      "------------------------------\n",
      "Processing Record 557 corbu\n",
      "------------------------------\n",
      "Processing Record 558 dunedin\n",
      "------------------------------\n",
      "Processing Record 559 harper\n",
      "------------------------------\n",
      "Processing Record 560 north bend\n",
      "------------------------------\n",
      "Processing Record 561 laguna\n",
      "------------------------------\n",
      "Processing Record 562 souillac\n",
      "------------------------------\n",
      "Processing Record 563 manta\n",
      "------------------------------\n",
      "Processing Record 564 west wendover\n",
      "------------------------------\n",
      "Processing Record 565 boli\n",
      "------------------------------\n",
      "Processing Record 566 luanda\n",
      "------------------------------\n",
      "Processing Record 567 meulaboh\n",
      "------------------------------\n",
      "Processing Record 568 tiksi\n",
      "------------------------------\n",
      "Processing Record 569 port hardy\n",
      "------------------------------\n",
      "Processing Record 570 dudinka\n",
      "------------------------------\n",
      "Processing Record 571 balad\n",
      "------------------------------\n",
      "Processing Record 572 rio grande\n",
      "------------------------------\n",
      "Processing Record 573 tahta\n",
      "------------------------------\n",
      "Processing Record 574 vila\n",
      "------------------------------\n",
      "Processing Record 575 itoman\n",
      "------------------------------\n",
      "Processing Record 576 artyk\n",
      "Could not find artyk\n",
      "------------------------------\n",
      "Processing Record 577 mount isa\n",
      "------------------------------\n",
      "Processing Record 578 russellville\n",
      "------------------------------\n",
      "Processing Record 579 freeport\n",
      "------------------------------\n",
      "Processing Record 580 tongchuan\n",
      "------------------------------\n",
      "Processing Record 581 saint-leu\n",
      "------------------------------\n",
      "Processing Record 582 bethel\n",
      "------------------------------\n",
      "Processing Record 583 lubango\n",
      "------------------------------\n",
      "Processing Record 584 qandahar\n",
      "Could not find qandahar\n",
      "------------------------------\n",
      "Processing Record 585 churapcha\n",
      "------------------------------\n",
      "Processing Record 586 madrid\n",
      "------------------------------\n",
      "Processing Record 587 nogliki\n",
      "------------------------------\n",
      "Processing Record 588 conde\n",
      "------------------------------\n",
      "Processing Record 589 soe\n",
      "------------------------------\n",
      "Processing Record 590 pyaozerskiy\n",
      "------------------------------\n",
      "Processing Record 591 westlock\n",
      "------------------------------\n",
      "Processing Record 592 roebourne\n",
      "------------------------------\n",
      "Processing Record 593 plainview\n",
      "------------------------------\n",
      "Processing Record 594 kutum\n",
      "------------------------------\n",
      "Processing Record 595 soja\n",
      "------------------------------\n",
      "Processing Record 596 alotau\n",
      "Could not find alotau\n",
      "------------------------------\n",
      "Processing Record 597 plerin\n",
      "------------------------------\n",
      "Processing Record 598 nantucket\n",
      "------------------------------\n",
      "Processing Record 599 bang rakam\n",
      "------------------------------\n",
      "Processing Record 600 emerald\n",
      "------------------------------\n",
      "Processing Record 601 iquitos\n",
      "------------------------------\n",
      "Processing Record 602 camanducaia\n",
      "------------------------------\n",
      "Processing Record 603 kangasala\n",
      "------------------------------\n",
      "Processing Record 604 severodvinsk\n",
      "------------------------------\n",
      "Processing Record 605 isoka\n",
      "------------------------------\n",
      "Processing Record 606 tuggurt\n",
      "Could not find tuggurt\n",
      "------------------------------\n",
      "Processing Record 607 linxia\n",
      "------------------------------\n",
      "Processing Record 608 galesong\n",
      "------------------------------\n",
      "Processing Record 609 la rioja\n",
      "------------------------------\n",
      "Processing Record 610 vysokogornyy\n",
      "------------------------------\n",
      "Processing Record 611 pochutla\n",
      "------------------------------\n",
      "Processing Record 612 biak\n",
      "------------------------------\n",
      "Processing Record 613 acari\n",
      "------------------------------\n",
      "Processing Record 614 port lincoln\n",
      "------------------------------\n",
      "Processing Record 615 gamba\n",
      "------------------------------\n",
      "Processing Record 616 myitkyina\n",
      "------------------------------\n",
      "Processing Record 617 sciacca\n",
      "------------------------------\n",
      "Processing Record 618 saravan\n",
      "------------------------------\n",
      "Processing Record 619 skalistyy\n",
      "Could not find skalistyy\n",
      "------------------------------\n",
      "Processing Record 620 fuerte olimpo\n",
      "------------------------------\n",
      "Processing Record 621 bonfim\n",
      "------------------------------\n",
      "Processing Record 622 tamiahua\n",
      "------------------------------\n",
      "Processing Record 623 kapoeta\n",
      "------------------------------\n",
      "Processing Record 624 umzimvubu\n",
      "Could not find umzimvubu\n",
      "------------------------------\n",
      "Processing Record 625 shizilu\n",
      "------------------------------\n",
      "Processing Record 626 makakilo city\n",
      "------------------------------\n",
      "Processing Record 627 mercedes\n",
      "------------------------------\n",
      "Processing Record 628 khakhea\n",
      "------------------------------\n",
      "Processing Record 629 taft\n",
      "------------------------------\n",
      "Processing Record 630 mongo\n",
      "------------------------------\n",
      "Processing Record 631 presidencia roque saenz pena\n",
      "------------------------------\n",
      "Processing Record 632 jumla\n",
      "------------------------------\n",
      "Processing Record 633 anadyr\n",
      "------------------------------\n",
      "Processing Record 634 emba\n",
      "------------------------------\n",
      "Processing Record 635 olinda\n",
      "------------------------------\n",
      "Processing Record 636 normal\n",
      "------------------------------\n",
      "Processing Record 637 thaba-tseka\n",
      "------------------------------\n",
      "Processing Record 638 aktau\n",
      "------------------------------\n",
      "Processing Record 639 san miguel acatan\n",
      "------------------------------\n",
      "Processing Record 640 ngunguru\n"
     ]
    },
    {
     "name": "stdout",
     "output_type": "stream",
     "text": [
      "------------------------------\n",
      "Processing Record 641 ahipara\n",
      "------------------------------\n",
      "Processing Record 642 dunnville\n",
      "------------------------------\n",
      "Processing Record 643 cleburne\n",
      "------------------------------\n",
      "Processing Record 644 lata\n",
      "------------------------------\n",
      "Processing Record 645 mrirt\n",
      "Could not find mrirt\n",
      "------------------------------\n",
      "Processing Record 646 udaipur\n",
      "------------------------------\n",
      "Processing Record 647 roald\n"
     ]
    }
   ],
   "source": [
    "# Loop through the list of cities and perform a request for data on each\n",
    "Record = 0\n",
    "print(f\"Beginning Data Retrieval\")\n",
    "for city in cities:\n",
    "    Record +=1\n",
    "    print(\"------------------------------\")\n",
    "    print(\"Processing Record \" + str(Record) + \" \" + city)\n",
    "    try:\n",
    "        response = requests.get(query_url + city).json()\n",
    "        lat.append(response['coord']['lat'])\n",
    "        lng.append(response['coord']['lon'])\n",
    "        temp.append(response['main']['temp_max'])\n",
    "        humidity.append(response['main']['humidity'])\n",
    "        cloudiness.append(response['clouds']['all'])\n",
    "        windspeed.append(response['wind']['speed'])\n",
    "        countries.append(response['sys']['country'])\n",
    "        city_list.append(city)\n",
    "    except:\n",
    "        print(\"Could not find \" + city)\n",
    "\n"
   ]
  },
  {
   "cell_type": "markdown",
   "metadata": {},
   "source": [
    "### Convert Raw Data to DataFrame\n",
    "* Export the city data into a .csv.\n",
    "* Display the DataFrame"
   ]
  },
  {
   "cell_type": "code",
   "execution_count": 4,
   "metadata": {},
   "outputs": [
    {
     "data": {
      "text/html": [
       "<div>\n",
       "<style scoped>\n",
       "    .dataframe tbody tr th:only-of-type {\n",
       "        vertical-align: middle;\n",
       "    }\n",
       "\n",
       "    .dataframe tbody tr th {\n",
       "        vertical-align: top;\n",
       "    }\n",
       "\n",
       "    .dataframe thead th {\n",
       "        text-align: right;\n",
       "    }\n",
       "</style>\n",
       "<table border=\"1\" class=\"dataframe\">\n",
       "  <thead>\n",
       "    <tr style=\"text-align: right;\">\n",
       "      <th></th>\n",
       "      <th>City</th>\n",
       "      <th>Country</th>\n",
       "      <th>Latitude</th>\n",
       "      <th>Longitude</th>\n",
       "      <th>Temperature</th>\n",
       "      <th>Humidity</th>\n",
       "      <th>Cloudiness</th>\n",
       "      <th>Wind speed</th>\n",
       "    </tr>\n",
       "  </thead>\n",
       "  <tbody>\n",
       "    <tr>\n",
       "      <th>0</th>\n",
       "      <td>bubaque</td>\n",
       "      <td>GW</td>\n",
       "      <td>11.2833</td>\n",
       "      <td>-15.8333</td>\n",
       "      <td>77.92</td>\n",
       "      <td>74</td>\n",
       "      <td>19</td>\n",
       "      <td>13.89</td>\n",
       "    </tr>\n",
       "    <tr>\n",
       "      <th>1</th>\n",
       "      <td>sioux lookout</td>\n",
       "      <td>CA</td>\n",
       "      <td>50.1001</td>\n",
       "      <td>-91.9170</td>\n",
       "      <td>23.00</td>\n",
       "      <td>80</td>\n",
       "      <td>90</td>\n",
       "      <td>10.36</td>\n",
       "    </tr>\n",
       "    <tr>\n",
       "      <th>2</th>\n",
       "      <td>rikitea</td>\n",
       "      <td>PF</td>\n",
       "      <td>-23.1203</td>\n",
       "      <td>-134.9692</td>\n",
       "      <td>77.97</td>\n",
       "      <td>76</td>\n",
       "      <td>50</td>\n",
       "      <td>14.52</td>\n",
       "    </tr>\n",
       "    <tr>\n",
       "      <th>3</th>\n",
       "      <td>mataura</td>\n",
       "      <td>NZ</td>\n",
       "      <td>-46.1927</td>\n",
       "      <td>168.8643</td>\n",
       "      <td>60.49</td>\n",
       "      <td>76</td>\n",
       "      <td>100</td>\n",
       "      <td>1.48</td>\n",
       "    </tr>\n",
       "    <tr>\n",
       "      <th>4</th>\n",
       "      <td>esperance</td>\n",
       "      <td>AU</td>\n",
       "      <td>-33.8667</td>\n",
       "      <td>121.9000</td>\n",
       "      <td>69.80</td>\n",
       "      <td>40</td>\n",
       "      <td>75</td>\n",
       "      <td>16.11</td>\n",
       "    </tr>\n",
       "  </tbody>\n",
       "</table>\n",
       "</div>"
      ],
      "text/plain": [
       "            City Country  Latitude  Longitude  Temperature  Humidity  \\\n",
       "0        bubaque      GW   11.2833   -15.8333        77.92        74   \n",
       "1  sioux lookout      CA   50.1001   -91.9170        23.00        80   \n",
       "2        rikitea      PF  -23.1203  -134.9692        77.97        76   \n",
       "3        mataura      NZ  -46.1927   168.8643        60.49        76   \n",
       "4      esperance      AU  -33.8667   121.9000        69.80        40   \n",
       "\n",
       "   Cloudiness  Wind speed  \n",
       "0          19       13.89  \n",
       "1          90       10.36  \n",
       "2          50       14.52  \n",
       "3         100        1.48  \n",
       "4          75       16.11  "
      ]
     },
     "execution_count": 4,
     "metadata": {},
     "output_type": "execute_result"
    }
   ],
   "source": [
    "#Create dictionary for dataframe\n",
    "weather_compiled = {\n",
    "    \"City\": city_list,\n",
    "    \"Country\": countries,\n",
    "    \"Latitude\": lat,\n",
    "    \"Longitude\": lng,\n",
    "    \"Temperature\": temp,\n",
    "    \"Humidity\": humidity,\n",
    "    \"Cloudiness\": cloudiness,\n",
    "    \"Wind speed\": windspeed,\n",
    "}\n",
    "weather_data = pd.DataFrame(weather_compiled)\n",
    "weather_data.head()"
   ]
  },
  {
   "cell_type": "code",
   "execution_count": 5,
   "metadata": {},
   "outputs": [],
   "source": [
    "weather_data.to_csv(\"weather_data.csv\")"
   ]
  },
  {
   "cell_type": "code",
   "execution_count": 6,
   "metadata": {},
   "outputs": [
    {
     "data": {
      "text/html": [
       "<div>\n",
       "<style scoped>\n",
       "    .dataframe tbody tr th:only-of-type {\n",
       "        vertical-align: middle;\n",
       "    }\n",
       "\n",
       "    .dataframe tbody tr th {\n",
       "        vertical-align: top;\n",
       "    }\n",
       "\n",
       "    .dataframe thead th {\n",
       "        text-align: right;\n",
       "    }\n",
       "</style>\n",
       "<table border=\"1\" class=\"dataframe\">\n",
       "  <thead>\n",
       "    <tr style=\"text-align: right;\">\n",
       "      <th></th>\n",
       "      <th>Latitude</th>\n",
       "      <th>Longitude</th>\n",
       "      <th>Temperature</th>\n",
       "      <th>Humidity</th>\n",
       "      <th>Cloudiness</th>\n",
       "      <th>Wind speed</th>\n",
       "    </tr>\n",
       "  </thead>\n",
       "  <tbody>\n",
       "    <tr>\n",
       "      <th>count</th>\n",
       "      <td>593.000000</td>\n",
       "      <td>593.000000</td>\n",
       "      <td>593.00000</td>\n",
       "      <td>593.000000</td>\n",
       "      <td>593.000000</td>\n",
       "      <td>593.000000</td>\n",
       "    </tr>\n",
       "    <tr>\n",
       "      <th>mean</th>\n",
       "      <td>20.421942</td>\n",
       "      <td>15.346433</td>\n",
       "      <td>50.70973</td>\n",
       "      <td>72.721754</td>\n",
       "      <td>50.580101</td>\n",
       "      <td>8.362024</td>\n",
       "    </tr>\n",
       "    <tr>\n",
       "      <th>std</th>\n",
       "      <td>32.589067</td>\n",
       "      <td>89.173750</td>\n",
       "      <td>31.70842</td>\n",
       "      <td>19.767615</td>\n",
       "      <td>40.092302</td>\n",
       "      <td>6.068986</td>\n",
       "    </tr>\n",
       "    <tr>\n",
       "      <th>min</th>\n",
       "      <td>-54.800000</td>\n",
       "      <td>-179.166700</td>\n",
       "      <td>-43.58000</td>\n",
       "      <td>12.000000</td>\n",
       "      <td>0.000000</td>\n",
       "      <td>0.160000</td>\n",
       "    </tr>\n",
       "    <tr>\n",
       "      <th>25%</th>\n",
       "      <td>-7.629800</td>\n",
       "      <td>-60.639300</td>\n",
       "      <td>32.00000</td>\n",
       "      <td>64.000000</td>\n",
       "      <td>2.000000</td>\n",
       "      <td>3.980000</td>\n",
       "    </tr>\n",
       "    <tr>\n",
       "      <th>50%</th>\n",
       "      <td>25.766700</td>\n",
       "      <td>18.733300</td>\n",
       "      <td>60.80000</td>\n",
       "      <td>78.000000</td>\n",
       "      <td>47.000000</td>\n",
       "      <td>6.910000</td>\n",
       "    </tr>\n",
       "    <tr>\n",
       "      <th>75%</th>\n",
       "      <td>46.433300</td>\n",
       "      <td>95.750000</td>\n",
       "      <td>75.87000</td>\n",
       "      <td>87.000000</td>\n",
       "      <td>90.000000</td>\n",
       "      <td>11.500000</td>\n",
       "    </tr>\n",
       "    <tr>\n",
       "      <th>max</th>\n",
       "      <td>78.218600</td>\n",
       "      <td>179.316700</td>\n",
       "      <td>96.87000</td>\n",
       "      <td>100.000000</td>\n",
       "      <td>100.000000</td>\n",
       "      <td>43.220000</td>\n",
       "    </tr>\n",
       "  </tbody>\n",
       "</table>\n",
       "</div>"
      ],
      "text/plain": [
       "         Latitude   Longitude  Temperature    Humidity  Cloudiness  Wind speed\n",
       "count  593.000000  593.000000    593.00000  593.000000  593.000000  593.000000\n",
       "mean    20.421942   15.346433     50.70973   72.721754   50.580101    8.362024\n",
       "std     32.589067   89.173750     31.70842   19.767615   40.092302    6.068986\n",
       "min    -54.800000 -179.166700    -43.58000   12.000000    0.000000    0.160000\n",
       "25%     -7.629800  -60.639300     32.00000   64.000000    2.000000    3.980000\n",
       "50%     25.766700   18.733300     60.80000   78.000000   47.000000    6.910000\n",
       "75%     46.433300   95.750000     75.87000   87.000000   90.000000   11.500000\n",
       "max     78.218600  179.316700     96.87000  100.000000  100.000000   43.220000"
      ]
     },
     "execution_count": 6,
     "metadata": {},
     "output_type": "execute_result"
    }
   ],
   "source": [
    "#Run describe to get descriptive stats\n",
    "weather_data.describe()"
   ]
  },
  {
   "cell_type": "markdown",
   "metadata": {},
   "source": [
    "## Inspect the data and remove the cities where the humidity > 100%.\n",
    "----\n",
    "Skip this step if there are no cities that have humidity > 100%. "
   ]
  },
  {
   "cell_type": "code",
   "execution_count": 7,
   "metadata": {},
   "outputs": [],
   "source": [
    "#No cities w/ humidity over 100"
   ]
  },
  {
   "cell_type": "code",
   "execution_count": 8,
   "metadata": {},
   "outputs": [],
   "source": [
    "#  Get the indices of cities that have humidity over 100%.\n",
    "#cityindex = weather_data[weather_data['Humidity']>=100].index.tolist()\n",
    "#print(cityindex)"
   ]
  },
  {
   "cell_type": "code",
   "execution_count": 9,
   "metadata": {},
   "outputs": [],
   "source": [
    "# Make a new DataFrame equal to the city data to drop all humidity outliers by index.\n",
    "# Passing \"inplace=False\" will make a copy of the city_data DataFrame, which we call \"clean_city_data\".\n",
    "\n",
    "#clean_city_data = weather_data[weather_data.Humidity =< 100]\n",
    "#clean_city_data = weather_data.drop(weather_data[weather_data['Humidity'] > 100].index, inplace = False)"
   ]
  },
  {
   "cell_type": "code",
   "execution_count": null,
   "metadata": {},
   "outputs": [],
   "source": [
    "\n"
   ]
  },
  {
   "cell_type": "markdown",
   "metadata": {},
   "source": [
    "## Plotting the Data\n",
    "* Use proper labeling of the plots using plot titles (including date of analysis) and axes labels.\n",
    "* Save the plotted figures as .pngs."
   ]
  },
  {
   "cell_type": "markdown",
   "metadata": {},
   "source": [
    "## Latitude vs. Temperature Plot"
   ]
  },
  {
   "cell_type": "code",
   "execution_count": 10,
   "metadata": {
    "scrolled": true
   },
   "outputs": [
    {
     "data": {
      "image/png": "[encoded data removed]",
      "text/plain": [
       "<Figure size 432x288 with 1 Axes>"
      ]
     },
     "metadata": {
      "needs_background": "light"
     },
     "output_type": "display_data"
    }
   ],
   "source": [
    "x_values = weather_data['Latitude']\n",
    "y_values = weather_data['Temperature']\n",
    "plt.scatter(x_values,y_values)\n",
    "plt.title('City Latitude vs. Max Temperature')\n",
    "plt.xlabel('Latitude')\n",
    "plt.ylabel('Max Temperature')\n",
    "plt.show()"
   ]
  },
  {
   "cell_type": "code",
   "execution_count": 11,
   "metadata": {},
   "outputs": [
    {
     "data": {
      "text/plain": [
       "<Figure size 432x288 with 0 Axes>"
      ]
     },
     "metadata": {},
     "output_type": "display_data"
    }
   ],
   "source": [
    "plt.savefig('lat_v_temp')"
   ]
  },
  {
   "cell_type": "code",
   "execution_count": 12,
   "metadata": {},
   "outputs": [],
   "source": [
    "#This scatterplot shows the relationship between the latitude of a city and the city's max temperature. \n",
    "#As we move away from the equator - where latitude =0, the temperature decreases. The decrease is more significant when moving north\n",
    "#than when moving south."
   ]
  },
  {
   "cell_type": "markdown",
   "metadata": {},
   "source": [
    "## Latitude vs. Humidity Plot"
   ]
  },
  {
   "cell_type": "code",
   "execution_count": 13,
   "metadata": {},
   "outputs": [
    {
     "data": {
      "image/png": "[encoded data removed]",
      "text/plain": [
       "<Figure size 432x288 with 1 Axes>"
      ]
     },
     "metadata": {
      "needs_background": "light"
     },
     "output_type": "display_data"
    }
   ],
   "source": [
    "x_values = weather_data['Latitude']\n",
    "y_values = weather_data['Humidity']\n",
    "plt.scatter(x_values,y_values)\n",
    "plt.title('City Latitude vs. Humidity')\n",
    "plt.xlabel('Latitude')\n",
    "plt.ylabel('Humidity')\n",
    "plt.show()"
   ]
  },
  {
   "cell_type": "code",
   "execution_count": 14,
   "metadata": {},
   "outputs": [
    {
     "data": {
      "text/plain": [
       "<Figure size 432x288 with 0 Axes>"
      ]
     },
     "metadata": {},
     "output_type": "display_data"
    }
   ],
   "source": [
    "plt.savefig('lat_v_humidity')"
   ]
  },
  {
   "cell_type": "code",
   "execution_count": 15,
   "metadata": {},
   "outputs": [],
   "source": [
    "#This scatterplot shows the relationship between the latitude of a city and the city's humidity. \n",
    "#There does not appear to be a linear relationship/correlation."
   ]
  },
  {
   "cell_type": "markdown",
   "metadata": {},
   "source": [
    "## Latitude vs. Cloudiness Plot"
   ]
  },
  {
   "cell_type": "code",
   "execution_count": 16,
   "metadata": {},
   "outputs": [
    {
     "data": {
      "image/png": "[encoded data removed]",
      "text/plain": [
       "<Figure size 432x288 with 1 Axes>"
      ]
     },
     "metadata": {
      "needs_background": "light"
     },
     "output_type": "display_data"
    }
   ],
   "source": [
    "x_values = weather_data['Latitude']\n",
    "y_values = weather_data['Cloudiness']\n",
    "plt.scatter(x_values,y_values)\n",
    "plt.title('City Latitude vs. Cloudiness')\n",
    "plt.xlabel('Latitude')\n",
    "plt.ylabel('Cloudiness')\n",
    "plt.show()"
   ]
  },
  {
   "cell_type": "code",
   "execution_count": 17,
   "metadata": {},
   "outputs": [
    {
     "data": {
      "text/plain": [
       "<Figure size 432x288 with 0 Axes>"
      ]
     },
     "metadata": {},
     "output_type": "display_data"
    }
   ],
   "source": [
    "plt.savefig('lat_v_cloud')"
   ]
  },
  {
   "cell_type": "code",
   "execution_count": 18,
   "metadata": {},
   "outputs": [],
   "source": [
    "#This scatterplot shows the relationship between the latitude of a city and the city's cloudiness. \n",
    "#There does not appear to be a linear relationship/correlation."
   ]
  },
  {
   "cell_type": "markdown",
   "metadata": {},
   "source": [
    "## Latitude vs. Wind Speed Plot"
   ]
  },
  {
   "cell_type": "code",
   "execution_count": 19,
   "metadata": {},
   "outputs": [
    {
     "data": {
      "image/png": "[encoded data removed]",
      "text/plain": [
       "<Figure size 432x288 with 1 Axes>"
      ]
     },
     "metadata": {
      "needs_background": "light"
     },
     "output_type": "display_data"
    }
   ],
   "source": [
    "x_values = weather_data['Latitude']\n",
    "y_values = weather_data['Wind speed']\n",
    "plt.scatter(x_values,y_values)\n",
    "plt.title('City Latitude vs. Wind speed')\n",
    "plt.xlabel('Latitude')\n",
    "plt.ylabel('Wind speed')\n",
    "plt.show()"
   ]
  },
  {
   "cell_type": "code",
   "execution_count": 20,
   "metadata": {},
   "outputs": [
    {
     "data": {
      "text/plain": [
       "<Figure size 432x288 with 0 Axes>"
      ]
     },
     "metadata": {},
     "output_type": "display_data"
    }
   ],
   "source": [
    "plt.savefig('lat_v_wind')"
   ]
  },
  {
   "cell_type": "code",
   "execution_count": 21,
   "metadata": {},
   "outputs": [],
   "source": [
    "#This scatterplot shows the relationship between the latitude of a city and the city's wind speed. \n",
    "#There does not appear to be a linear relationship/correlation, but it is clear that wind speeds above about 17 are far less \n",
    "#frequent than those under 17."
   ]
  },
  {
   "cell_type": "markdown",
   "metadata": {},
   "source": [
    "## Linear Regression"
   ]
  },
  {
   "cell_type": "markdown",
   "metadata": {},
   "source": [
    "####  Northern Hemisphere - Max Temp vs. Latitude Linear Regression"
   ]
  },
  {
   "cell_type": "code",
   "execution_count": 22,
   "metadata": {},
   "outputs": [
    {
     "name": "stdout",
     "output_type": "stream",
     "text": [
      "The r-value is: -0.8468720510912254\n"
     ]
    },
    {
     "data": {
      "image/png": "[encoded data removed]",
      "text/plain": [
       "<Figure size 432x288 with 1 Axes>"
      ]
     },
     "metadata": {
      "needs_background": "light"
     },
     "output_type": "display_data"
    }
   ],
   "source": [
    "northern = weather_data.loc[weather_data[\"Latitude\"]>0]\n",
    "x_values = northern['Latitude']\n",
    "y_values = northern['Temperature']\n",
    "plt.title('Northern Hemisphere City Latitude vs. Max Temperature')\n",
    "plt.xlabel('Latitude')\n",
    "plt.ylabel('Max Temperature')\n",
    "(slope, intercept, rvalue, pvalue, stderr) = linregress(x_values, y_values)\n",
    "regress_values = x_values * slope + intercept\n",
    "line_eq = \"y = \" + str(round(slope,2)) + \"x + \" + str(round(intercept,2))\n",
    "plt.scatter(x_values,y_values)\n",
    "plt.plot(x_values,regress_values,\"green\")\n",
    "plt.annotate(line_eq,(5,0),fontsize=15,color=\"green\")\n",
    "print(f\"The r-value is: {rvalue}\")\n",
    "\n"
   ]
  },
  {
   "cell_type": "code",
   "execution_count": 23,
   "metadata": {},
   "outputs": [
    {
     "data": {
      "text/plain": [
       "<Figure size 432x288 with 0 Axes>"
      ]
     },
     "metadata": {},
     "output_type": "display_data"
    }
   ],
   "source": [
    "plt.savefig('nlat_v_temp')"
   ]
  },
  {
   "cell_type": "code",
   "execution_count": 24,
   "metadata": {},
   "outputs": [],
   "source": [
    "#This scatterplot shows the relationship between the latitude of a city in the Northern Hemisphere and the city's max temperature. \n",
    "#These are correlated. As we move away from the equator - where latitude =0, the temperature decreases."
   ]
  },
  {
   "cell_type": "markdown",
   "metadata": {},
   "source": [
    "####  Southern Hemisphere - Max Temp vs. Latitude Linear Regression"
   ]
  },
  {
   "cell_type": "code",
   "execution_count": 25,
   "metadata": {},
   "outputs": [
    {
     "name": "stdout",
     "output_type": "stream",
     "text": [
      "The r-value is: 0.5053507050682104\n"
     ]
    },
    {
     "data": {
      "image/png": "[encoded data removed]",
      "text/plain": [
       "<Figure size 432x288 with 1 Axes>"
      ]
     },
     "metadata": {
      "needs_background": "light"
     },
     "output_type": "display_data"
    }
   ],
   "source": [
    "southern = weather_data.loc[weather_data[\"Latitude\"]<0]\n",
    "x_values = southern['Latitude']\n",
    "y_values = southern['Temperature']\n",
    "plt.title('Southern Hemisphere City Latitude vs. Max Temperature')\n",
    "plt.xlabel('Latitude')\n",
    "plt.ylabel('Max Temperature')\n",
    "(slope, intercept, rvalue, pvalue, stderr) = linregress(x_values, y_values)\n",
    "regress_values = x_values * slope + intercept\n",
    "line_eq = \"y = \" + str(round(slope,2)) + \"x + \" + str(round(intercept,2))\n",
    "plt.scatter(x_values,y_values)\n",
    "plt.plot(x_values,regress_values,\"green\")\n",
    "plt.annotate(line_eq,(5,0),fontsize=15,color=\"green\")\n",
    "print(f\"The r-value is: {rvalue}\")"
   ]
  },
  {
   "cell_type": "code",
   "execution_count": 26,
   "metadata": {},
   "outputs": [
    {
     "data": {
      "text/plain": [
       "<Figure size 432x288 with 0 Axes>"
      ]
     },
     "metadata": {},
     "output_type": "display_data"
    }
   ],
   "source": [
    "plt.savefig('slat_v_temp')"
   ]
  },
  {
   "cell_type": "code",
   "execution_count": 27,
   "metadata": {},
   "outputs": [],
   "source": [
    "#This scatterplot shows the relationship between the latitude of a city in the Southern Hemisphere and the city's max temperature. \n",
    "#These are correlated. As we towards the equator - where latitude =0, the temperature increases."
   ]
  },
  {
   "cell_type": "markdown",
   "metadata": {},
   "source": [
    "####  Northern Hemisphere - Humidity (%) vs. Latitude Linear Regression"
   ]
  },
  {
   "cell_type": "code",
   "execution_count": 28,
   "metadata": {},
   "outputs": [
    {
     "name": "stdout",
     "output_type": "stream",
     "text": [
      "The r-value is: 0.12882859033134553\n"
     ]
    },
    {
     "data": {
      "image/png": "[encoded data removed]",
      "text/plain": [
       "<Figure size 432x288 with 1 Axes>"
      ]
     },
     "metadata": {
      "needs_background": "light"
     },
     "output_type": "display_data"
    }
   ],
   "source": [
    "northern = weather_data.loc[weather_data[\"Latitude\"]<0]\n",
    "x_values = northern['Latitude']\n",
    "y_values = northern['Humidity']\n",
    "plt.title('Northern Hemisphere City Latitude vs. Humidity')\n",
    "plt.xlabel('Latitude')\n",
    "plt.ylabel('Humidity')\n",
    "(slope, intercept, rvalue, pvalue, stderr) = linregress(x_values, y_values)\n",
    "regress_values = x_values * slope + intercept\n",
    "line_eq = \"y = \" + str(round(slope,2)) + \"x + \" + str(round(intercept,2))\n",
    "plt.scatter(x_values,y_values)\n",
    "plt.plot(x_values,regress_values,\"green\")\n",
    "plt.annotate(line_eq,(5,0),fontsize=15,color=\"green\")\n",
    "print(f\"The r-value is: {rvalue}\")"
   ]
  },
  {
   "cell_type": "code",
   "execution_count": 29,
   "metadata": {},
   "outputs": [
    {
     "data": {
      "text/plain": [
       "<Figure size 432x288 with 0 Axes>"
      ]
     },
     "metadata": {},
     "output_type": "display_data"
    }
   ],
   "source": [
    "plt.savefig('nlat_v_humidity')"
   ]
  },
  {
   "cell_type": "code",
   "execution_count": 30,
   "metadata": {},
   "outputs": [],
   "source": [
    "#This scatterplot shows the relationship between the latitude of a northern hemisphere city and the city's humidity. \n",
    "#There is not a linear relationship/correlation."
   ]
  },
  {
   "cell_type": "markdown",
   "metadata": {},
   "source": [
    "####  Southern Hemisphere - Humidity (%) vs. Latitude Linear Regression"
   ]
  },
  {
   "cell_type": "code",
   "execution_count": 31,
   "metadata": {},
   "outputs": [
    {
     "name": "stdout",
     "output_type": "stream",
     "text": [
      "The r-value is: 0.12882859033134553\n"
     ]
    },
    {
     "data": {
      "image/png": "[encoded data removed]",
      "text/plain": [
       "<Figure size 432x288 with 1 Axes>"
      ]
     },
     "metadata": {
      "needs_background": "light"
     },
     "output_type": "display_data"
    }
   ],
   "source": [
    "southern = weather_data.loc[weather_data[\"Latitude\"]<0]\n",
    "x_values = southern['Latitude']\n",
    "y_values = southern['Humidity']\n",
    "plt.title('Southern Hemisphere City Latitude vs. Humidity')\n",
    "plt.xlabel('Latitude')\n",
    "plt.ylabel('Humidity')\n",
    "(slope, intercept, rvalue, pvalue, stderr) = linregress(x_values, y_values)\n",
    "regress_values = x_values * slope + intercept\n",
    "line_eq = \"y = \" + str(round(slope,2)) + \"x + \" + str(round(intercept,2))\n",
    "plt.scatter(x_values,y_values)\n",
    "plt.plot(x_values,regress_values,\"green\")\n",
    "plt.annotate(line_eq,(5,0),fontsize=15,color=\"green\")\n",
    "print(f\"The r-value is: {rvalue}\")"
   ]
  },
  {
   "cell_type": "code",
   "execution_count": 32,
   "metadata": {},
   "outputs": [
    {
     "data": {
      "text/plain": [
       "<Figure size 432x288 with 0 Axes>"
      ]
     },
     "metadata": {},
     "output_type": "display_data"
    }
   ],
   "source": [
    "plt.savefig('slat_v_humidity')"
   ]
  },
  {
   "cell_type": "code",
   "execution_count": 33,
   "metadata": {},
   "outputs": [],
   "source": [
    "#This scatterplot shows the relationship between the latitude of a southern hemisphere city and the city's humidity. \n",
    "#There is not a linear relationship/correlation."
   ]
  },
  {
   "cell_type": "markdown",
   "metadata": {},
   "source": [
    "####  Northern Hemisphere - Cloudiness (%) vs. Latitude Linear Regression"
   ]
  },
  {
   "cell_type": "code",
   "execution_count": 34,
   "metadata": {},
   "outputs": [
    {
     "name": "stdout",
     "output_type": "stream",
     "text": [
      "The r-value is: 0.17069267848830436\n"
     ]
    },
    {
     "data": {
      "image/png": "[encoded data removed]",
      "text/plain": [
       "<Figure size 432x288 with 1 Axes>"
      ]
     },
     "metadata": {
      "needs_background": "light"
     },
     "output_type": "display_data"
    }
   ],
   "source": [
    "northern = weather_data.loc[weather_data[\"Latitude\"]<0]\n",
    "x_values = northern['Latitude']\n",
    "y_values = northern['Cloudiness']\n",
    "plt.title('Northern Hemisphere City Latitude vs. Cloudiness')\n",
    "plt.xlabel('Latitude')\n",
    "plt.ylabel('Cloudiness')\n",
    "(slope, intercept, rvalue, pvalue, stderr) = linregress(x_values, y_values)\n",
    "regress_values = x_values * slope + intercept\n",
    "line_eq = \"y = \" + str(round(slope,2)) + \"x + \" + str(round(intercept,2))\n",
    "plt.scatter(x_values,y_values)\n",
    "plt.plot(x_values,regress_values,\"green\")\n",
    "plt.annotate(line_eq,(5,0),fontsize=15,color=\"green\")\n",
    "print(f\"The r-value is: {rvalue}\")"
   ]
  },
  {
   "cell_type": "code",
   "execution_count": 35,
   "metadata": {},
   "outputs": [
    {
     "data": {
      "text/plain": [
       "<Figure size 432x288 with 0 Axes>"
      ]
     },
     "metadata": {},
     "output_type": "display_data"
    }
   ],
   "source": [
    "plt.savefig('nlat_v_cloud')"
   ]
  },
  {
   "cell_type": "code",
   "execution_count": 36,
   "metadata": {},
   "outputs": [],
   "source": [
    "#This scatterplot shows the relationship between the latitude of a northern hemisphere city and the city's cloudiness. \n",
    "#There is not a linear relationship/correlation."
   ]
  },
  {
   "cell_type": "markdown",
   "metadata": {},
   "source": [
    "####  Southern Hemisphere - Cloudiness (%) vs. Latitude Linear Regression"
   ]
  },
  {
   "cell_type": "code",
   "execution_count": 37,
   "metadata": {},
   "outputs": [
    {
     "name": "stdout",
     "output_type": "stream",
     "text": [
      "The r-value is: 0.17069267848830436\n"
     ]
    },
    {
     "data": {
      "image/png": "[encoded data removed]",
      "text/plain": [
       "<Figure size 432x288 with 1 Axes>"
      ]
     },
     "metadata": {
      "needs_background": "light"
     },
     "output_type": "display_data"
    }
   ],
   "source": [
    "southern = weather_data.loc[weather_data[\"Latitude\"]<0]\n",
    "x_values = southern['Latitude']\n",
    "y_values = southern['Cloudiness']\n",
    "plt.title('Southern Hemisphere City Latitude vs. Cloudiness')\n",
    "plt.xlabel('Latitude')\n",
    "plt.ylabel('Cloudiness')\n",
    "(slope, intercept, rvalue, pvalue, stderr) = linregress(x_values, y_values)\n",
    "regress_values = x_values * slope + intercept\n",
    "line_eq = \"y = \" + str(round(slope,2)) + \"x + \" + str(round(intercept,2))\n",
    "plt.scatter(x_values,y_values)\n",
    "plt.plot(x_values,regress_values,\"green\")\n",
    "plt.annotate(line_eq,(5,0),fontsize=15,color=\"green\")\n",
    "print(f\"The r-value is: {rvalue}\")"
   ]
  },
  {
   "cell_type": "code",
   "execution_count": 38,
   "metadata": {},
   "outputs": [
    {
     "data": {
      "text/plain": [
       "<Figure size 432x288 with 0 Axes>"
      ]
     },
     "metadata": {},
     "output_type": "display_data"
    }
   ],
   "source": [
    "plt.savefig('slat_v_cloud')"
   ]
  },
  {
   "cell_type": "code",
   "execution_count": 39,
   "metadata": {},
   "outputs": [],
   "source": [
    "#This scatterplot shows the relationship between the latitude of a southern hemisphere city and the city's cloudiness. \n",
    "#There is not a linear relationship/correlation."
   ]
  },
  {
   "cell_type": "markdown",
   "metadata": {},
   "source": [
    "####  Northern Hemisphere - Wind Speed (mph) vs. Latitude Linear Regression"
   ]
  },
  {
   "cell_type": "code",
   "execution_count": 40,
   "metadata": {},
   "outputs": [
    {
     "name": "stdout",
     "output_type": "stream",
     "text": [
      "The r-value is: -0.017141546109178413\n"
     ]
    },
    {
     "data": {
      "image/png": "[encoded data removed]",
      "text/plain": [
       "<Figure size 432x288 with 1 Axes>"
      ]
     },
     "metadata": {
      "needs_background": "light"
     },
     "output_type": "display_data"
    }
   ],
   "source": [
    "northern = weather_data.loc[weather_data[\"Latitude\"]<0]\n",
    "x_values = northern['Latitude']\n",
    "y_values = northern['Wind speed']\n",
    "plt.title('Northern Hemisphere City Latitude vs. Wind speed')\n",
    "plt.xlabel('Latitude')\n",
    "plt.ylabel('Wind speed')\n",
    "(slope, intercept, rvalue, pvalue, stderr) = linregress(x_values, y_values)\n",
    "regress_values = x_values * slope + intercept\n",
    "line_eq = \"y = \" + str(round(slope,2)) + \"x + \" + str(round(intercept,2))\n",
    "plt.scatter(x_values,y_values)\n",
    "plt.plot(x_values,regress_values,\"green\")\n",
    "plt.annotate(line_eq,(5,0),fontsize=15,color=\"green\")\n",
    "print(f\"The r-value is: {rvalue}\")"
   ]
  },
  {
   "cell_type": "code",
   "execution_count": 41,
   "metadata": {},
   "outputs": [
    {
     "data": {
      "text/plain": [
       "<Figure size 432x288 with 0 Axes>"
      ]
     },
     "metadata": {},
     "output_type": "display_data"
    }
   ],
   "source": [
    "plt.savefig('nlat_v_wind')"
   ]
  },
  {
   "cell_type": "code",
   "execution_count": 42,
   "metadata": {},
   "outputs": [],
   "source": [
    "#This scatterplot shows the relationship between the latitude of a northern hemisphere city and the city's wind speed. \n",
    "#There is not a linear relationship/correlation."
   ]
  },
  {
   "cell_type": "markdown",
   "metadata": {},
   "source": [
    "####  Southern Hemisphere - Wind Speed (mph) vs. Latitude Linear Regression"
   ]
  },
  {
   "cell_type": "code",
   "execution_count": 43,
   "metadata": {},
   "outputs": [
    {
     "name": "stdout",
     "output_type": "stream",
     "text": [
      "The r-value is: -0.017141546109178413\n"
     ]
    },
    {
     "data": {
      "image/png": "[encoded data removed]",
      "text/plain": [
       "<Figure size 432x288 with 1 Axes>"
      ]
     },
     "metadata": {
      "needs_background": "light"
     },
     "output_type": "display_data"
    }
   ],
   "source": [
    "southern = weather_data.loc[weather_data[\"Latitude\"]<0]\n",
    "x_values = southern['Latitude']\n",
    "y_values = southern['Wind speed']\n",
    "plt.title('Southern Hemisphere City Latitude vs. Wind speed')\n",
    "plt.xlabel('Latitude')\n",
    "plt.ylabel('Wind speed')\n",
    "(slope, intercept, rvalue, pvalue, stderr) = linregress(x_values, y_values)\n",
    "regress_values = x_values * slope + intercept\n",
    "line_eq = \"y = \" + str(round(slope,2)) + \"x + \" + str(round(intercept,2))\n",
    "plt.scatter(x_values,y_values)\n",
    "plt.plot(x_values,regress_values,\"green\")\n",
    "plt.annotate(line_eq,(5,0),fontsize=15,color=\"green\")\n",
    "print(f\"The r-value is: {rvalue}\")"
   ]
  },
  {
   "cell_type": "code",
   "execution_count": 44,
   "metadata": {},
   "outputs": [
    {
     "data": {
      "text/plain": [
       "<Figure size 432x288 with 0 Axes>"
      ]
     },
     "metadata": {},
     "output_type": "display_data"
    }
   ],
   "source": [
    "plt.savefig('slat_v_wind')"
   ]
  },
  {
   "cell_type": "code",
   "execution_count": 45,
   "metadata": {},
   "outputs": [],
   "source": [
    "#This scatterplot shows the relationship between the latitude of a southern hemisphere city and the city's wind speed. \n",
    "#There is not a linear relationship/correlation."
   ]
  }
 ],
 "metadata": {
  "anaconda-cloud": {},
  "kernel_info": {
   "name": "python3"
  },
  "kernelspec": {
   "display_name": "Python 3",
   "language": "python",
   "name": "python3"
  },
  "language_info": {
   "codemirror_mode": {
    "name": "ipython",
    "version": 3
   },
   "file_extension": ".py",
   "mimetype": "text/x-python",
   "name": "python",
   "nbconvert_exporter": "python",
   "pygments_lexer": "ipython3",
   "version": "3.8.3"
  },
  "latex_envs": {
   "LaTeX_envs_menu_present": true,
   "autoclose": false,
   "autocomplete": true,
   "bibliofile": "biblio.bib",
   "cite_by": "apalike",
   "current_citInitial": 1,
   "eqLabelWithNumbers": true,
   "eqNumInitial": 1,
   "hotkeys": {
    "equation": "Ctrl-E",
    "itemize": "Ctrl-I"
   },
   "labels_anchors": false,
   "latex_user_defs": false,
   "report_style_numbering": false,
   "user_envs_cfg": false
  },
  "nteract": {
   "version": "0.12.3"
  }
 },
 "nbformat": 4,
 "nbformat_minor": 2
}
